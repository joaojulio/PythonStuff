{
  "nbformat": 4,
  "nbformat_minor": 0,
  "metadata": {
    "colab": {
      "name": "Colab_Plotly.ipynb",
      "provenance": [],
      "collapsed_sections": [],
      "authorship_tag": "ABX9TyMPsxFlrJ89J2s+H0eYwUZp",
      "include_colab_link": true
    },
    "kernelspec": {
      "name": "python3",
      "display_name": "Python 3"
    }
  },
  "cells": [
    {
      "cell_type": "markdown",
      "metadata": {
        "id": "view-in-github",
        "colab_type": "text"
      },
      "source": [
        "<a href=\"https://colab.research.google.com/github/joaojulio/PythonStuff/blob/master/Colab_Plotly.ipynb\" target=\"_parent\"><img src=\"https://colab.research.google.com/assets/colab-badge.svg\" alt=\"Open In Colab\"/></a>"
      ]
    },
    {
      "cell_type": "markdown",
      "metadata": {
        "id": "FZtpuNH60BpT",
        "colab_type": "text"
      },
      "source": [
        "*All my projects are described in english [en] and in portuguese[pt-br]*\n",
        "\n",
        "*Meus projetos são descritos em inglês [en] e em português[pt-br]*"
      ]
    },
    {
      "cell_type": "markdown",
      "metadata": {
        "id": "wVZz2I47xSxO",
        "colab_type": "text"
      },
      "source": [
        "#Code to load a plotly graph in Google Colab\n",
        "Check [here](https://colab.research.google.com/drive/1hJT54bhe03cQGurzmMCeJiyJBz5R7Njz) the source of this code.\n",
        "#Código para plotar um gráfico usando plotly no Google Colab\n",
        "Veja [aqui](https://colab.research.google.com/drive/1hJT54bhe03cQGurzmMCeJiyJBz5R7Njz) a fonte desse código."
      ]
    },
    {
      "cell_type": "markdown",
      "metadata": {
        "id": "dKfrtqSoy6_Y",
        "colab_type": "text"
      },
      "source": [
        "###Import library\n",
        "###Importando a biblioteca"
      ]
    },
    {
      "cell_type": "code",
      "metadata": {
        "id": "8ZWsZepSzJAy",
        "colab_type": "code",
        "colab": {}
      },
      "source": [
        "import plotly\n",
        "import cufflinks as cf"
      ],
      "execution_count": 0,
      "outputs": []
    },
    {
      "cell_type": "code",
      "metadata": {
        "id": "DKGipEYKzU9G",
        "colab_type": "code",
        "colab": {}
      },
      "source": [
        "'''\n",
        "checking version.\n",
        "verificando a versão.\n",
        "'''\n",
        "\n",
        "from plotly import __version__\n",
        "print(__version__)"
      ],
      "execution_count": 0,
      "outputs": []
    },
    {
      "cell_type": "code",
      "metadata": {
        "id": "esSrZq2czb_k",
        "colab_type": "code",
        "colab": {}
      },
      "source": [
        "import plotly.graph_objects as go"
      ],
      "execution_count": 0,
      "outputs": []
    },
    {
      "cell_type": "code",
      "metadata": {
        "id": "-NrTqBg1zg2_",
        "colab_type": "code",
        "colab": {}
      },
      "source": [
        "from plotly.offline import download_plotlyjs,init_notebook_mode,plot,iplot"
      ],
      "execution_count": 0,
      "outputs": []
    },
    {
      "cell_type": "code",
      "metadata": {
        "id": "8S0ocn_9zkFR",
        "colab_type": "code",
        "colab": {}
      },
      "source": [
        "init_notebook_mode(connected=True)"
      ],
      "execution_count": 0,
      "outputs": []
    },
    {
      "cell_type": "code",
      "metadata": {
        "id": "NplkLFC4zk1I",
        "colab_type": "code",
        "colab": {}
      },
      "source": [
        "cf.go_offline()"
      ],
      "execution_count": 0,
      "outputs": []
    },
    {
      "cell_type": "markdown",
      "metadata": {
        "id": "kdxeb4KNznQb",
        "colab_type": "text"
      },
      "source": [
        "###Function\n",
        "###Função"
      ]
    },
    {
      "cell_type": "code",
      "metadata": {
        "id": "-7N4dM2TxNZk",
        "colab_type": "code",
        "colab": {}
      },
      "source": [
        "'''\n",
        "necessary function to load the plotly graph. It should be called everytime I want to plot a plotly graph.\n",
        "função necessária para abrir o gráfico. Devo chamar sempre que quiser plotar um gráfico usando plotly\n",
        "'''\n",
        "def configure_plotly_browser_state():\n",
        "  import IPython\n",
        "  display(IPython.core.display.HTML('''\n",
        "        <script src=\"/static/components/requirejs/require.js\"></script>\n",
        "        <script>\n",
        "          requirejs.config({\n",
        "            paths: {\n",
        "              base: '/static/base',\n",
        "              plotly: 'https://cdn.plot.ly/plotly-1.5.1.min.js?noext',\n",
        "            },\n",
        "          });\n",
        "        </script>\n",
        "        '''))"
      ],
      "execution_count": 0,
      "outputs": []
    }
  ]
}