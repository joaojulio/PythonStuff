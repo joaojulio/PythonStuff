{
  "nbformat": 4,
  "nbformat_minor": 0,
  "metadata": {
    "colab": {
      "name": "Import_large_csv_Colab.ipynb",
      "provenance": [],
      "collapsed_sections": [],
      "authorship_tag": "ABX9TyMYm3B0d1piUQ4OC5VxVl8U",
      "include_colab_link": true
    },
    "kernelspec": {
      "name": "python3",
      "display_name": "Python 3"
    }
  },
  "cells": [
    {
      "cell_type": "markdown",
      "metadata": {
        "id": "view-in-github",
        "colab_type": "text"
      },
      "source": [
        "<a href=\"https://colab.research.google.com/github/joaojulio/PythonStuff/blob/master/Import_large_csv_Colab.ipynb\" target=\"_parent\"><img src=\"https://colab.research.google.com/assets/colab-badge.svg\" alt=\"Open In Colab\"/></a>"
      ]
    },
    {
      "cell_type": "markdown",
      "metadata": {
        "id": "JTw-Snin6EE5",
        "colab_type": "text"
      },
      "source": [
        "*All my projects are described in english [en] and in portuguese[pt-br]*\n",
        "\n",
        "*Meus projetos são descritos em inglês [en] e em português[pt-br]*"
      ]
    },
    {
      "cell_type": "markdown",
      "metadata": {
        "id": "OQqj8Lzl6JUW",
        "colab_type": "text"
      },
      "source": [
        "#Code to upload a large csv file in Google Colab\n",
        "Check [here](https://cursos.alura.com.br/forum/topico-importando-csv-no-google-colab-86862) the source of this code.\n",
        "#Código para carregar um arquivo csv muito grande no Google Colab\n",
        "Veja [aqui](https://cursos.alura.com.br/forum/topico-importando-csv-no-google-colab-86862) a fonte desse código."
      ]
    },
    {
      "cell_type": "markdown",
      "metadata": {
        "id": "0T5lnib66XLC",
        "colab_type": "text"
      },
      "source": [
        "Google Drive in Colab.\n",
        "\n",
        "Google Drive no Colab."
      ]
    },
    {
      "cell_type": "code",
      "metadata": {
        "id": "iHxL5tln58tR",
        "colab_type": "code",
        "colab": {}
      },
      "source": [
        "from google.colab import drive\n",
        "\n",
        "drive.mount('/content/drive')"
      ],
      "execution_count": 0,
      "outputs": []
    },
    {
      "cell_type": "code",
      "metadata": {
        "id": "AIUmawS66mrT",
        "colab_type": "code",
        "colab": {}
      },
      "source": [
        "'''\n",
        "Message that will appear:\n",
        "Mensagem que aparecerá:\n",
        "\n",
        "\n",
        "Go to this URL in a browser: https://accounts.google.com/o/oauth2/auth?client_id=[um-valor-bem-longo]\n",
        "\n",
        "Enter your authorization code:\n",
        "'''"
      ],
      "execution_count": 0,
      "outputs": []
    },
    {
      "cell_type": "markdown",
      "metadata": {
        "id": "rPT-fC2R6yPH",
        "colab_type": "text"
      },
      "source": [
        "Access the above url and follow the steps.\n",
        "\n",
        "Acesse a url acima e siga os passos."
      ]
    },
    {
      "cell_type": "code",
      "metadata": {
        "id": "meJdq4u16uoF",
        "colab_type": "code",
        "colab": {}
      },
      "source": [
        "'''\n",
        "This message should apper:\n",
        "Essa mensagem deve aparecer:\n",
        "\n",
        "··········\n",
        "Mounted at /content/drive\n",
        "'''"
      ],
      "execution_count": 0,
      "outputs": []
    },
    {
      "cell_type": "markdown",
      "metadata": {
        "id": "5vj-s58U7HoB",
        "colab_type": "text"
      },
      "source": [
        "Upload the file into the Google drive account selected in the second step above.\n",
        "\n",
        "Faça o upload do arquivo na conta do Google drive aelecionada no segundo passo acima"
      ]
    },
    {
      "cell_type": "code",
      "metadata": {
        "id": "jd36Jpc77C8f",
        "colab_type": "code",
        "colab": {}
      },
      "source": [
        "'''\n",
        "example\n",
        "exemplo\n",
        "\n",
        "Datasets/imdb-reviews-pt-br.csv\n",
        "'''"
      ],
      "execution_count": 0,
      "outputs": []
    },
    {
      "cell_type": "markdown",
      "metadata": {
        "id": "RC5FuO1m7ks9",
        "colab_type": "text"
      },
      "source": [
        "Open dataset in Colab\n",
        "\n",
        "Abrir o dataset no Colab"
      ]
    },
    {
      "cell_type": "code",
      "metadata": {
        "id": "APIc75f17sGq",
        "colab_type": "code",
        "colab": {}
      },
      "source": [
        "import pandas as pd\n",
        "\n",
        "df = pd.read_csv('/content/drive/My Drive/Datasets/imdb-reviews-pt-br.csv')\n",
        "df.head()"
      ],
      "execution_count": 0,
      "outputs": []
    }
  ]
}