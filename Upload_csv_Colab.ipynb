{
  "nbformat": 4,
  "nbformat_minor": 0,
  "metadata": {
    "colab": {
      "name": "Upload_csv_Colab.ipynb",
      "provenance": [],
      "collapsed_sections": [],
      "authorship_tag": "ABX9TyN9Dd2/vVPsU3xWC/vUD3Yk",
      "include_colab_link": true
    },
    "kernelspec": {
      "name": "python3",
      "display_name": "Python 3"
    }
  },
  "cells": [
    {
      "cell_type": "markdown",
      "metadata": {
        "id": "view-in-github",
        "colab_type": "text"
      },
      "source": [
        "<a href=\"https://colab.research.google.com/github/joaojulio/PythonStuff/blob/master/Upload_csv_Colab.ipynb\" target=\"_parent\"><img src=\"https://colab.research.google.com/assets/colab-badge.svg\" alt=\"Open In Colab\"/></a>"
      ]
    },
    {
      "cell_type": "markdown",
      "metadata": {
        "id": "Zfexemp83QNd",
        "colab_type": "text"
      },
      "source": [
        "*All my projects are described in english [en] and in portuguese[pt-br]*\n",
        "\n",
        "*Meus projetos são descritos em inglês [en] e em português[pt-br]*"
      ]
    },
    {
      "cell_type": "markdown",
      "metadata": {
        "id": "FdjlgCNM3ZSd",
        "colab_type": "text"
      },
      "source": [
        "#Code to upload a local csv file in Google Colab\n",
        "Check [here](https://stackoverflow.com/questions/48340341/how-to-read-csv-to-dataframe-in-google-colab) the source of this code.\n",
        "#Código para carregar um arquivo csv local no Google Colab\n",
        "Veja [aqui](https://stackoverflow.com/questions/48340341/how-to-read-csv-to-dataframe-in-google-colab) a fonte desse código."
      ]
    },
    {
      "cell_type": "code",
      "metadata": {
        "id": "KrL2JHG22kiX",
        "colab_type": "code",
        "colab": {}
      },
      "source": [
        "from google.colab import files\n",
        "arquivo = files.upload()"
      ],
      "execution_count": 0,
      "outputs": []
    },
    {
      "cell_type": "code",
      "metadata": {
        "id": "yfV-FPvj20hn",
        "colab_type": "code",
        "colab": {}
      },
      "source": [
        "'''\n",
        "replace 'filename' for the csv file name uploaded above.\n",
        "troque o 'filenme' pelo nome do arquivo csv carregado acima.\n",
        "'''\n",
        "\n",
        "import io\n",
        "df = pd.read_csv(io.BytesIO(arquivo['filename']))"
      ],
      "execution_count": 0,
      "outputs": []
    }
  ]
}